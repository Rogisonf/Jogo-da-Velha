import matplotlib.pyplot as plt
import numpy as np
import random

def check_winner(board):
    win_conditions = [
        (0, 1, 2), (3, 4, 5), (6, 7, 8),  # Linhas
        (0, 3, 6), (1, 4, 7), (2, 5, 8),  # Colunas
        (0, 4, 8), (2, 4, 6)             # Diagonais
    ]
    for condition in win_conditions:
        if board[condition[0]] == board[condition[1]] == board[condition[2]] != ' ':
            return board[condition[0]]
    if ' ' not in board:
        return 'Tie'
    return None

def simulate_random_game():
    board = [' '] * 9
    player = 'X'
    game_states = [''.join(board)]
    
    while True:
        available_positions = [i for i, x in enumerate(board) if x == ' ']
        position = random.choice(available_positions)
        board[position] = player
        game_states.append(''.join(board))
        
        winner = check_winner(board)
        if winner:
            return game_states, winner
        
        player = 'O' if player == 'X' else 'X'

def plot_game_sequence(game_states):
    fig, axes = plt.subplots(1, len(game_states), figsize=(20, 5))
    for i, state in enumerate(game_states):
        plot_state(axes[i], state, f'Move {i}')
    plt.tight_layout()
    plt.show()

def plot_state(ax, state, title):
    board = [state[i*3:(i+1)*3] for i in range(3)]
    ax.imshow(np.zeros((3, 3)), cmap="Greys", interpolation="nearest", extent=[0,3,0,3])
    
    for j in range(4):
        ax.plot([j, j], [0,3], color='black')
        ax.plot([0,3], [j, j], color='black')
    
    for row in range(3):
        for col in range(3):
            if board[row][col] in ['X', 'O']:
                ax.text(col + 0.5, 3 - (row + 0.5), board[row][col], fontsize=20, ha='center', va='center')
    
    ax.set_xticks([])
    ax.set_yticks([])
    ax.set_title(title)

# Simulate and plot a random game
game_states, winner = simulate_random_game()
plot_game_sequence(game_states)
print("Game Result:", "Tie" if winner == 'Tie' else f"Winner is {winner}")
